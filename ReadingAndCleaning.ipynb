{
 "cells": [
  {
   "cell_type": "code",
   "execution_count": 1,
   "metadata": {
    "collapsed": true
   },
   "outputs": [
    {
     "name": "stdout",
     "output_type": "stream",
     "text": [
      "appended 2018_clean.csv\n",
      "appended 2019_clean.csv\n",
      "appended LAPD_Calls_for_Service_2015.csv\n",
      "appended LAPD_Calls_for_Service_2016.csv\n",
      "appended LAPD_Calls_for_Service_2017.csv\n"
     ]
    }
   ],
   "source": [
    "import pandas as pd\n",
    "import os\n",
    "import numpy as np\n",
    "from collections import defaultdict\n",
    "\n",
    "list_of_data = (os.listdir(\"data\"))\n",
    "list_of_df = []\n",
    "\n",
    "for file in list_of_data:\n",
    "    frame = pd.read_csv(\"data/\"+str(file), parse_dates=[['Dispatch Date', 'Dispatch Time']])\n",
    "    list_of_df.append(frame)\n",
    "    print (\"appended \" + str(file))\n",
    "\n",
    "df = pd.concat(list_of_df)\n",
    "\n",
    "df.to_csv(\"all_calls.csv\")"
   ]
  },
  {
   "cell_type": "code",
   "execution_count": 3,
   "outputs": [
    {
     "data": {
      "text/plain": "  Dispatch Date_Dispatch Time  Unnamed: 0 Incident_Number     Area_Occ  \\\n0         2018-01-01 01:30:17         0.0     1.71231e+11      Olympic   \n1         2018-01-01 00:53:55         1.0     1.71231e+11       Newton   \n2         2018-01-01 00:24:24         2.0     1.71231e+11  N Hollywood   \n3         2018-01-01 01:55:15         3.0     1.71231e+11      Rampart   \n4         2018-01-01 00:53:59         4.0     1.71231e+11       Newton   \n\n   Rpt_Dist Call_Type_Code Call_Type_Text  Incident Number  \\\n0    2015.0           507P          PARTY              NaN   \n1    1371.0           620F         FAMILY              NaN   \n2    1514.0           620N       NEIGHBOR              NaN   \n3     204.0           507P          PARTY              NaN   \n4    1324.0           415G            GRP              NaN   \n\n   Reporting District Area Occurred Call Type Code Call Type Description  \\\n0                 NaN           NaN            NaN                   NaN   \n1                 NaN           NaN            NaN                   NaN   \n2                 NaN           NaN            NaN                   NaN   \n3                 NaN           NaN            NaN                   NaN   \n4                 NaN           NaN            NaN                   NaN   \n\n   call volume  \n0            1  \n1            1  \n2            1  \n3            1  \n4            1  ",
      "text/html": "<div>\n<style scoped>\n    .dataframe tbody tr th:only-of-type {\n        vertical-align: middle;\n    }\n\n    .dataframe tbody tr th {\n        vertical-align: top;\n    }\n\n    .dataframe thead th {\n        text-align: right;\n    }\n</style>\n<table border=\"1\" class=\"dataframe\">\n  <thead>\n    <tr style=\"text-align: right;\">\n      <th></th>\n      <th>Dispatch Date_Dispatch Time</th>\n      <th>Unnamed: 0</th>\n      <th>Incident_Number</th>\n      <th>Area_Occ</th>\n      <th>Rpt_Dist</th>\n      <th>Call_Type_Code</th>\n      <th>Call_Type_Text</th>\n      <th>Incident Number</th>\n      <th>Reporting District</th>\n      <th>Area Occurred</th>\n      <th>Call Type Code</th>\n      <th>Call Type Description</th>\n      <th>call volume</th>\n    </tr>\n  </thead>\n  <tbody>\n    <tr>\n      <th>0</th>\n      <td>2018-01-01 01:30:17</td>\n      <td>0.0</td>\n      <td>1.71231e+11</td>\n      <td>Olympic</td>\n      <td>2015.0</td>\n      <td>507P</td>\n      <td>PARTY</td>\n      <td>NaN</td>\n      <td>NaN</td>\n      <td>NaN</td>\n      <td>NaN</td>\n      <td>NaN</td>\n      <td>1</td>\n    </tr>\n    <tr>\n      <th>1</th>\n      <td>2018-01-01 00:53:55</td>\n      <td>1.0</td>\n      <td>1.71231e+11</td>\n      <td>Newton</td>\n      <td>1371.0</td>\n      <td>620F</td>\n      <td>FAMILY</td>\n      <td>NaN</td>\n      <td>NaN</td>\n      <td>NaN</td>\n      <td>NaN</td>\n      <td>NaN</td>\n      <td>1</td>\n    </tr>\n    <tr>\n      <th>2</th>\n      <td>2018-01-01 00:24:24</td>\n      <td>2.0</td>\n      <td>1.71231e+11</td>\n      <td>N Hollywood</td>\n      <td>1514.0</td>\n      <td>620N</td>\n      <td>NEIGHBOR</td>\n      <td>NaN</td>\n      <td>NaN</td>\n      <td>NaN</td>\n      <td>NaN</td>\n      <td>NaN</td>\n      <td>1</td>\n    </tr>\n    <tr>\n      <th>3</th>\n      <td>2018-01-01 01:55:15</td>\n      <td>3.0</td>\n      <td>1.71231e+11</td>\n      <td>Rampart</td>\n      <td>204.0</td>\n      <td>507P</td>\n      <td>PARTY</td>\n      <td>NaN</td>\n      <td>NaN</td>\n      <td>NaN</td>\n      <td>NaN</td>\n      <td>NaN</td>\n      <td>1</td>\n    </tr>\n    <tr>\n      <th>4</th>\n      <td>2018-01-01 00:53:59</td>\n      <td>4.0</td>\n      <td>1.71231e+11</td>\n      <td>Newton</td>\n      <td>1324.0</td>\n      <td>415G</td>\n      <td>GRP</td>\n      <td>NaN</td>\n      <td>NaN</td>\n      <td>NaN</td>\n      <td>NaN</td>\n      <td>NaN</td>\n      <td>1</td>\n    </tr>\n  </tbody>\n</table>\n</div>"
     },
     "execution_count": 3,
     "metadata": {},
     "output_type": "execute_result"
    }
   ],
   "source": [
    "df.head()"
   ],
   "metadata": {
    "collapsed": false,
    "pycharm": {
     "name": "#%%\n"
    }
   }
  },
  {
   "cell_type": "code",
   "execution_count": 2,
   "outputs": [],
   "source": [
    "df[\"call volume\"] = 1"
   ],
   "metadata": {
    "collapsed": false,
    "pycharm": {
     "name": "#%%\n"
    }
   }
  },
  {
   "cell_type": "code",
   "execution_count": 28,
   "outputs": [],
   "source": [
    "df[\"date time\"] = df.index"
   ],
   "metadata": {
    "collapsed": false,
    "pycharm": {
     "name": "#%%\n"
    }
   }
  },
  {
   "cell_type": "code",
   "execution_count": 4,
   "outputs": [],
   "source": [
    "clean_df = df[[\"Dispatch Date_Dispatch Time\", \"call volume\"]]"
   ],
   "metadata": {
    "collapsed": false,
    "pycharm": {
     "name": "#%%\n"
    }
   }
  },
  {
   "cell_type": "code",
   "execution_count": 5,
   "outputs": [
    {
     "data": {
      "text/plain": "Index(['Dispatch Date_Dispatch Time', 'call volume'], dtype='object')"
     },
     "execution_count": 5,
     "metadata": {},
     "output_type": "execute_result"
    }
   ],
   "source": [
    "clean_df.columns"
   ],
   "metadata": {
    "collapsed": false,
    "pycharm": {
     "name": "#%%\n"
    }
   }
  },
  {
   "cell_type": "code",
   "execution_count": 6,
   "outputs": [
    {
     "data": {
      "text/plain": "  Dispatch Date_Dispatch Time  call volume\n0         2018-01-01 01:30:17            1\n1         2018-01-01 00:53:55            1\n2         2018-01-01 00:24:24            1\n3         2018-01-01 01:55:15            1\n4         2018-01-01 00:53:59            1",
      "text/html": "<div>\n<style scoped>\n    .dataframe tbody tr th:only-of-type {\n        vertical-align: middle;\n    }\n\n    .dataframe tbody tr th {\n        vertical-align: top;\n    }\n\n    .dataframe thead th {\n        text-align: right;\n    }\n</style>\n<table border=\"1\" class=\"dataframe\">\n  <thead>\n    <tr style=\"text-align: right;\">\n      <th></th>\n      <th>Dispatch Date_Dispatch Time</th>\n      <th>call volume</th>\n    </tr>\n  </thead>\n  <tbody>\n    <tr>\n      <th>0</th>\n      <td>2018-01-01 01:30:17</td>\n      <td>1</td>\n    </tr>\n    <tr>\n      <th>1</th>\n      <td>2018-01-01 00:53:55</td>\n      <td>1</td>\n    </tr>\n    <tr>\n      <th>2</th>\n      <td>2018-01-01 00:24:24</td>\n      <td>1</td>\n    </tr>\n    <tr>\n      <th>3</th>\n      <td>2018-01-01 01:55:15</td>\n      <td>1</td>\n    </tr>\n    <tr>\n      <th>4</th>\n      <td>2018-01-01 00:53:59</td>\n      <td>1</td>\n    </tr>\n  </tbody>\n</table>\n</div>"
     },
     "execution_count": 6,
     "metadata": {},
     "output_type": "execute_result"
    }
   ],
   "source": [
    "clean_df.head()"
   ],
   "metadata": {
    "collapsed": false,
    "pycharm": {
     "name": "#%%\n"
    }
   }
  },
  {
   "cell_type": "code",
   "execution_count": 8,
   "outputs": [],
   "source": [
    "clean_df.index = clean_df[\"Dispatch Date_Dispatch Time\"]"
   ],
   "metadata": {
    "collapsed": false,
    "pycharm": {
     "name": "#%%\n"
    }
   }
  },
  {
   "cell_type": "code",
   "execution_count": 9,
   "outputs": [
    {
     "data": {
      "text/plain": "  Dispatch Date_Dispatch Time  Unnamed: 0 Incident_Number     Area_Occ  \\\n0         2018-01-01 01:30:17         0.0     1.71231e+11      Olympic   \n1         2018-01-01 00:53:55         1.0     1.71231e+11       Newton   \n2         2018-01-01 00:24:24         2.0     1.71231e+11  N Hollywood   \n3         2018-01-01 01:55:15         3.0     1.71231e+11      Rampart   \n4         2018-01-01 00:53:59         4.0     1.71231e+11       Newton   \n\n   Rpt_Dist Call_Type_Code Call_Type_Text  Incident Number  \\\n0    2015.0           507P          PARTY              NaN   \n1    1371.0           620F         FAMILY              NaN   \n2    1514.0           620N       NEIGHBOR              NaN   \n3     204.0           507P          PARTY              NaN   \n4    1324.0           415G            GRP              NaN   \n\n   Reporting District Area Occurred Call Type Code Call Type Description  \\\n0                 NaN           NaN            NaN                   NaN   \n1                 NaN           NaN            NaN                   NaN   \n2                 NaN           NaN            NaN                   NaN   \n3                 NaN           NaN            NaN                   NaN   \n4                 NaN           NaN            NaN                   NaN   \n\n   call volume  \n0            1  \n1            1  \n2            1  \n3            1  \n4            1  ",
      "text/html": "<div>\n<style scoped>\n    .dataframe tbody tr th:only-of-type {\n        vertical-align: middle;\n    }\n\n    .dataframe tbody tr th {\n        vertical-align: top;\n    }\n\n    .dataframe thead th {\n        text-align: right;\n    }\n</style>\n<table border=\"1\" class=\"dataframe\">\n  <thead>\n    <tr style=\"text-align: right;\">\n      <th></th>\n      <th>Dispatch Date_Dispatch Time</th>\n      <th>Unnamed: 0</th>\n      <th>Incident_Number</th>\n      <th>Area_Occ</th>\n      <th>Rpt_Dist</th>\n      <th>Call_Type_Code</th>\n      <th>Call_Type_Text</th>\n      <th>Incident Number</th>\n      <th>Reporting District</th>\n      <th>Area Occurred</th>\n      <th>Call Type Code</th>\n      <th>Call Type Description</th>\n      <th>call volume</th>\n    </tr>\n  </thead>\n  <tbody>\n    <tr>\n      <th>0</th>\n      <td>2018-01-01 01:30:17</td>\n      <td>0.0</td>\n      <td>1.71231e+11</td>\n      <td>Olympic</td>\n      <td>2015.0</td>\n      <td>507P</td>\n      <td>PARTY</td>\n      <td>NaN</td>\n      <td>NaN</td>\n      <td>NaN</td>\n      <td>NaN</td>\n      <td>NaN</td>\n      <td>1</td>\n    </tr>\n    <tr>\n      <th>1</th>\n      <td>2018-01-01 00:53:55</td>\n      <td>1.0</td>\n      <td>1.71231e+11</td>\n      <td>Newton</td>\n      <td>1371.0</td>\n      <td>620F</td>\n      <td>FAMILY</td>\n      <td>NaN</td>\n      <td>NaN</td>\n      <td>NaN</td>\n      <td>NaN</td>\n      <td>NaN</td>\n      <td>1</td>\n    </tr>\n    <tr>\n      <th>2</th>\n      <td>2018-01-01 00:24:24</td>\n      <td>2.0</td>\n      <td>1.71231e+11</td>\n      <td>N Hollywood</td>\n      <td>1514.0</td>\n      <td>620N</td>\n      <td>NEIGHBOR</td>\n      <td>NaN</td>\n      <td>NaN</td>\n      <td>NaN</td>\n      <td>NaN</td>\n      <td>NaN</td>\n      <td>1</td>\n    </tr>\n    <tr>\n      <th>3</th>\n      <td>2018-01-01 01:55:15</td>\n      <td>3.0</td>\n      <td>1.71231e+11</td>\n      <td>Rampart</td>\n      <td>204.0</td>\n      <td>507P</td>\n      <td>PARTY</td>\n      <td>NaN</td>\n      <td>NaN</td>\n      <td>NaN</td>\n      <td>NaN</td>\n      <td>NaN</td>\n      <td>1</td>\n    </tr>\n    <tr>\n      <th>4</th>\n      <td>2018-01-01 00:53:59</td>\n      <td>4.0</td>\n      <td>1.71231e+11</td>\n      <td>Newton</td>\n      <td>1324.0</td>\n      <td>415G</td>\n      <td>GRP</td>\n      <td>NaN</td>\n      <td>NaN</td>\n      <td>NaN</td>\n      <td>NaN</td>\n      <td>NaN</td>\n      <td>1</td>\n    </tr>\n  </tbody>\n</table>\n</div>"
     },
     "execution_count": 9,
     "metadata": {},
     "output_type": "execute_result"
    }
   ],
   "source": [
    "df.head()"
   ],
   "metadata": {
    "collapsed": false,
    "pycharm": {
     "name": "#%%\n"
    }
   }
  },
  {
   "cell_type": "code",
   "execution_count": 10,
   "outputs": [],
   "source": [
    "df_by_hour = clean_df.resample(\"H\").sum()"
   ],
   "metadata": {
    "collapsed": false,
    "pycharm": {
     "name": "#%%\n"
    }
   }
  },
  {
   "cell_type": "code",
   "execution_count": 26,
   "outputs": [
    {
     "data": {
      "text/plain": "                             call volume\nDispatch Date_Dispatch Time             \n2015-01-01 00:00:00                  286\n2015-01-01 01:00:00                  265\n2015-01-01 02:00:00                  179\n2015-01-01 03:00:00                  152\n2015-01-01 04:00:00                  127",
      "text/html": "<div>\n<style scoped>\n    .dataframe tbody tr th:only-of-type {\n        vertical-align: middle;\n    }\n\n    .dataframe tbody tr th {\n        vertical-align: top;\n    }\n\n    .dataframe thead th {\n        text-align: right;\n    }\n</style>\n<table border=\"1\" class=\"dataframe\">\n  <thead>\n    <tr style=\"text-align: right;\">\n      <th></th>\n      <th>call volume</th>\n    </tr>\n    <tr>\n      <th>Dispatch Date_Dispatch Time</th>\n      <th></th>\n    </tr>\n  </thead>\n  <tbody>\n    <tr>\n      <th>2015-01-01 00:00:00</th>\n      <td>286</td>\n    </tr>\n    <tr>\n      <th>2015-01-01 01:00:00</th>\n      <td>265</td>\n    </tr>\n    <tr>\n      <th>2015-01-01 02:00:00</th>\n      <td>179</td>\n    </tr>\n    <tr>\n      <th>2015-01-01 03:00:00</th>\n      <td>152</td>\n    </tr>\n    <tr>\n      <th>2015-01-01 04:00:00</th>\n      <td>127</td>\n    </tr>\n  </tbody>\n</table>\n</div>"
     },
     "execution_count": 26,
     "metadata": {},
     "output_type": "execute_result"
    }
   ],
   "source": [
    "df_by_hour.head()"
   ],
   "metadata": {
    "collapsed": false,
    "pycharm": {
     "name": "#%%\n"
    }
   }
  },
  {
   "cell_type": "code",
   "execution_count": 14,
   "outputs": [
    {
     "data": {
      "text/plain": "                             call volume\nDispatch Date_Dispatch Time             \n2019-12-31 19:00:00                  310\n2019-12-31 20:00:00                  320\n2019-12-31 21:00:00                  373\n2019-12-31 22:00:00                  354\n2019-12-31 23:00:00                  281",
      "text/html": "<div>\n<style scoped>\n    .dataframe tbody tr th:only-of-type {\n        vertical-align: middle;\n    }\n\n    .dataframe tbody tr th {\n        vertical-align: top;\n    }\n\n    .dataframe thead th {\n        text-align: right;\n    }\n</style>\n<table border=\"1\" class=\"dataframe\">\n  <thead>\n    <tr style=\"text-align: right;\">\n      <th></th>\n      <th>call volume</th>\n    </tr>\n    <tr>\n      <th>Dispatch Date_Dispatch Time</th>\n      <th></th>\n    </tr>\n  </thead>\n  <tbody>\n    <tr>\n      <th>2019-12-31 19:00:00</th>\n      <td>310</td>\n    </tr>\n    <tr>\n      <th>2019-12-31 20:00:00</th>\n      <td>320</td>\n    </tr>\n    <tr>\n      <th>2019-12-31 21:00:00</th>\n      <td>373</td>\n    </tr>\n    <tr>\n      <th>2019-12-31 22:00:00</th>\n      <td>354</td>\n    </tr>\n    <tr>\n      <th>2019-12-31 23:00:00</th>\n      <td>281</td>\n    </tr>\n  </tbody>\n</table>\n</div>"
     },
     "execution_count": 14,
     "metadata": {},
     "output_type": "execute_result"
    }
   ],
   "source": [
    "df_by_hour.tail()"
   ],
   "metadata": {
    "collapsed": false,
    "pycharm": {
     "name": "#%%\n"
    }
   }
  },
  {
   "cell_type": "code",
   "execution_count": 24,
   "outputs": [],
   "source": [
    "#year = pd.period_range(min(df_by_hour.index), max(df_by_hour.index))\n",
    "#calls_per_hour = df_by_hour.reindex(year, fill_value=0)"
   ],
   "metadata": {
    "collapsed": false,
    "pycharm": {
     "name": "#%%\n"
    }
   }
  },
  {
   "cell_type": "code",
   "execution_count": 25,
   "outputs": [
    {
     "data": {
      "text/plain": "            call volume\n2015-01-01            0\n2015-01-02            0\n2015-01-03            0\n2015-01-04            0\n2015-01-05            0",
      "text/html": "<div>\n<style scoped>\n    .dataframe tbody tr th:only-of-type {\n        vertical-align: middle;\n    }\n\n    .dataframe tbody tr th {\n        vertical-align: top;\n    }\n\n    .dataframe thead th {\n        text-align: right;\n    }\n</style>\n<table border=\"1\" class=\"dataframe\">\n  <thead>\n    <tr style=\"text-align: right;\">\n      <th></th>\n      <th>call volume</th>\n    </tr>\n  </thead>\n  <tbody>\n    <tr>\n      <th>2015-01-01</th>\n      <td>0</td>\n    </tr>\n    <tr>\n      <th>2015-01-02</th>\n      <td>0</td>\n    </tr>\n    <tr>\n      <th>2015-01-03</th>\n      <td>0</td>\n    </tr>\n    <tr>\n      <th>2015-01-04</th>\n      <td>0</td>\n    </tr>\n    <tr>\n      <th>2015-01-05</th>\n      <td>0</td>\n    </tr>\n  </tbody>\n</table>\n</div>"
     },
     "execution_count": 25,
     "metadata": {},
     "output_type": "execute_result"
    }
   ],
   "source": [
    "df_by_hour.head()"
   ],
   "metadata": {
    "collapsed": false,
    "pycharm": {
     "name": "#%%\n"
    }
   }
  },
  {
   "cell_type": "code",
   "execution_count": 27,
   "outputs": [],
   "source": [
    "df_by_hour[\"ds\"] = df_by_hour.index\n",
    "df_by_hour[\"y\"] = df_by_hour[\"call volume\"]"
   ],
   "metadata": {
    "collapsed": false,
    "pycharm": {
     "name": "#%%\n"
    }
   }
  },
  {
   "cell_type": "code",
   "execution_count": 28,
   "outputs": [
    {
     "data": {
      "text/plain": "                             call volume                  ds    y\nDispatch Date_Dispatch Time                                      \n2015-01-01 00:00:00                  286 2015-01-01 00:00:00  286\n2015-01-01 01:00:00                  265 2015-01-01 01:00:00  265\n2015-01-01 02:00:00                  179 2015-01-01 02:00:00  179\n2015-01-01 03:00:00                  152 2015-01-01 03:00:00  152\n2015-01-01 04:00:00                  127 2015-01-01 04:00:00  127",
      "text/html": "<div>\n<style scoped>\n    .dataframe tbody tr th:only-of-type {\n        vertical-align: middle;\n    }\n\n    .dataframe tbody tr th {\n        vertical-align: top;\n    }\n\n    .dataframe thead th {\n        text-align: right;\n    }\n</style>\n<table border=\"1\" class=\"dataframe\">\n  <thead>\n    <tr style=\"text-align: right;\">\n      <th></th>\n      <th>call volume</th>\n      <th>ds</th>\n      <th>y</th>\n    </tr>\n    <tr>\n      <th>Dispatch Date_Dispatch Time</th>\n      <th></th>\n      <th></th>\n      <th></th>\n    </tr>\n  </thead>\n  <tbody>\n    <tr>\n      <th>2015-01-01 00:00:00</th>\n      <td>286</td>\n      <td>2015-01-01 00:00:00</td>\n      <td>286</td>\n    </tr>\n    <tr>\n      <th>2015-01-01 01:00:00</th>\n      <td>265</td>\n      <td>2015-01-01 01:00:00</td>\n      <td>265</td>\n    </tr>\n    <tr>\n      <th>2015-01-01 02:00:00</th>\n      <td>179</td>\n      <td>2015-01-01 02:00:00</td>\n      <td>179</td>\n    </tr>\n    <tr>\n      <th>2015-01-01 03:00:00</th>\n      <td>152</td>\n      <td>2015-01-01 03:00:00</td>\n      <td>152</td>\n    </tr>\n    <tr>\n      <th>2015-01-01 04:00:00</th>\n      <td>127</td>\n      <td>2015-01-01 04:00:00</td>\n      <td>127</td>\n    </tr>\n  </tbody>\n</table>\n</div>"
     },
     "execution_count": 28,
     "metadata": {},
     "output_type": "execute_result"
    }
   ],
   "source": [
    "df_by_hour.head()"
   ],
   "metadata": {
    "collapsed": false,
    "pycharm": {
     "name": "#%%\n"
    }
   }
  },
  {
   "cell_type": "code",
   "execution_count": 30,
   "outputs": [
    {
     "data": {
      "text/plain": "Dispatch Date_Dispatch Time\n2015-01-01 00:00:00   2015-01-01 00:00:00\n2015-01-01 01:00:00   2015-01-01 01:00:00\n2015-01-01 02:00:00   2015-01-01 02:00:00\n2015-01-01 03:00:00   2015-01-01 03:00:00\n2015-01-01 04:00:00   2015-01-01 04:00:00\n                              ...        \n2019-12-31 19:00:00   2019-12-31 19:00:00\n2019-12-31 20:00:00   2019-12-31 20:00:00\n2019-12-31 21:00:00   2019-12-31 21:00:00\n2019-12-31 22:00:00   2019-12-31 22:00:00\n2019-12-31 23:00:00   2019-12-31 23:00:00\nFreq: H, Name: ds, Length: 43824, dtype: datetime64[ns]"
     },
     "execution_count": 30,
     "metadata": {},
     "output_type": "execute_result"
    }
   ],
   "source": [
    "df_by_hour[\"ds\"]"
   ],
   "metadata": {
    "collapsed": false,
    "pycharm": {
     "name": "#%%\n"
    }
   }
  },
  {
   "cell_type": "code",
   "execution_count": 31,
   "outputs": [],
   "source": [
    "df_by_hour.to_csv(\"total_calls_per_hour.csv\")\n"
   ],
   "metadata": {
    "collapsed": false,
    "pycharm": {
     "name": "#%%\n"
    }
   }
  }
 ],
 "metadata": {
  "kernelspec": {
   "display_name": "Python 3",
   "language": "python",
   "name": "python3"
  },
  "language_info": {
   "codemirror_mode": {
    "name": "ipython",
    "version": 2
   },
   "file_extension": ".py",
   "mimetype": "text/x-python",
   "name": "python",
   "nbconvert_exporter": "python",
   "pygments_lexer": "ipython2",
   "version": "2.7.6"
  }
 },
 "nbformat": 4,
 "nbformat_minor": 0
}